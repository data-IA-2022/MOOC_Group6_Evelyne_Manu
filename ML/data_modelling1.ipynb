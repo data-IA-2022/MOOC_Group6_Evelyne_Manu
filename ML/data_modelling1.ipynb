{
  "cells": [
    {
      "cell_type": "code",
      "execution_count": null,
      "metadata": {
        "id": "5yyRJeTW6IrF"
      },
      "outputs": [],
      "source": [
        "# Importation des modules Python\n",
        "import pandas as pd\n",
        "import numpy as np\n",
        "from sklearn.linear_model import SGDClassifier\n",
        "from sklearn.ensemble import HistGradientBoostingRegressor, HistGradientBoostingClassifier\n",
        "from sklearn.preprocessing import OneHotEncoder, RobustScaler\n",
        "from sklearn.pipeline import Pipeline\n",
        "from sklearn.impute import SimpleImputer\n",
        "from sklearn.preprocessing import OneHotEncoder\n",
        "from sklearn.compose import ColumnTransformer\n",
        "from sklearn.model_selection import train_test_split, GridSearchCV\n",
        "from sklearn import metrics\n",
        "from sklearn.decomposition import TruncatedSVD\n",
        "from sklearn.decomposition import PCA\n",
        "from sklearn.feature_extraction.text import TfidfVectorizer\n",
        "from sklearn import set_config\n",
        "from sklearn.preprocessing import FunctionTransformer\n",
        "from sklearn.metrics import r2_score, mean_absolute_error, balanced_accuracy_score, f1_score\n",
        "from matplotlib import pyplot as plt"
      ]
    },
    {
      "cell_type": "code",
      "execution_count": null,
      "metadata": {
        "colab": {
          "base_uri": "https://localhost:8080/"
        },
        "id": "7WKsHqaN6Nqm",
        "outputId": "6d5fd8c6-4fd2-4bf3-c8cf-4fd86e9527e3"
      },
      "outputs": [
        {
          "output_type": "stream",
          "name": "stdout",
          "text": [
            "Mounted at /content/drive\n",
            "/content/drive/MyDrive/MOOC\n",
            "Le répertoire courant est : /content/drive/MyDrive/MOOC \n",
            "\n"
          ]
        }
      ],
      "source": [
        "# Import de GoogleDrive\n",
        "import os\n",
        "from google.colab import drive\n",
        "drive.mount('/content/drive')\n",
        "%cd '/content/drive/MyDrive/MOOC'\n",
        "\n",
        "path = os.getcwd()\n",
        "print(f\"Le répertoire courant est : {path} \\n\")"
      ]
    },
    {
      "cell_type": "code",
      "source": [
        "# Lecture du fichier csv correspondant à la concaténation des tables Users, Messages et Results\n",
        "df = pd.read_csv('users_messages_results.csv', index_col=False)\n",
        "df.info()"
      ],
      "metadata": {
        "id": "ww4pAh9Rtcz6",
        "colab": {
          "base_uri": "https://localhost:8080/"
        },
        "outputId": "e1716bbc-0b5c-4a04-8633-90290923cafa"
      },
      "execution_count": null,
      "outputs": [
        {
          "output_type": "stream",
          "name": "stdout",
          "text": [
            "<class 'pandas.core.frame.DataFrame'>\n",
            "RangeIndex: 72153 entries, 0 to 72152\n",
            "Data columns (total 7 columns):\n",
            " #   Column              Non-Null Count  Dtype  \n",
            "---  ------              --------------  -----  \n",
            " 0   username            72153 non-null  object \n",
            " 1   country             16092 non-null  object \n",
            " 2   gender              72153 non-null  object \n",
            " 3   level_of_education  17566 non-null  object \n",
            " 4   body                5601 non-null   float64\n",
            " 5   course_id           72153 non-null  object \n",
            " 6   grade               72153 non-null  float64\n",
            "dtypes: float64(2), object(5)\n",
            "memory usage: 3.9+ MB\n"
          ]
        }
      ]
    },
    {
      "cell_type": "code",
      "source": [
        "df.dropna(inplace=True)\n",
        "df.info()"
      ],
      "metadata": {
        "colab": {
          "base_uri": "https://localhost:8080/"
        },
        "id": "mLEodLMzF8tH",
        "outputId": "e48a24cb-d2f6-4819-c0c8-934c63f7057d"
      },
      "execution_count": null,
      "outputs": [
        {
          "output_type": "stream",
          "name": "stdout",
          "text": [
            "<class 'pandas.core.frame.DataFrame'>\n",
            "Int64Index: 924 entries, 1169 to 50928\n",
            "Data columns (total 7 columns):\n",
            " #   Column              Non-Null Count  Dtype  \n",
            "---  ------              --------------  -----  \n",
            " 0   username            924 non-null    object \n",
            " 1   country             924 non-null    object \n",
            " 2   gender              924 non-null    object \n",
            " 3   level_of_education  924 non-null    object \n",
            " 4   body                924 non-null    float64\n",
            " 5   course_id           924 non-null    object \n",
            " 6   grade               924 non-null    float64\n",
            "dtypes: float64(2), object(5)\n",
            "memory usage: 57.8+ KB\n"
          ]
        }
      ]
    },
    {
      "cell_type": "code",
      "source": [
        "# Pour modéliser une classification, on utilise le seuil de 0.5 tel que décrit sur le site de FUN MOOC. Idéalement, il faudrait utiliser la colonne 'Certificate Eligible', mais elle n'est pas disponible dans le dump postgres.\n",
        "df.drop(['username'],  axis=1, inplace=True)\n",
        "def transf(grade):\n",
        "  if grade >= 0.5:\n",
        "    return 0\n",
        "  else:\n",
        "    return 1\n",
        "df['grade'] = df['grade'].apply(transf)"
      ],
      "metadata": {
        "id": "YdnJkp0JHnEf"
      },
      "execution_count": null,
      "outputs": []
    },
    {
      "cell_type": "code",
      "source": [
        "df.head()"
      ],
      "metadata": {
        "colab": {
          "base_uri": "https://localhost:8080/",
          "height": 206
        },
        "id": "_4hLLD8B_oVw",
        "outputId": "6709c195-35f7-43f9-9c9a-874d8179ad9a"
      },
      "execution_count": null,
      "outputs": [
        {
          "output_type": "execute_result",
          "data": {
            "text/plain": [
              "     country gender level_of_education      body  \\\n",
              "1169      FR      m                 hs  1.000000   \n",
              "1170      FR      m                 hs  1.000000   \n",
              "1180      FR      m                  m -0.440000   \n",
              "1181      FR      m                  m -0.440000   \n",
              "1191      FR      m                  m  0.333333   \n",
              "\n",
              "                         course_id  grade  \n",
              "1169  MinesTelecom/04017/session01      0  \n",
              "1170  MinesTelecom/04018/session01      1  \n",
              "1180  MinesTelecom/04017/session01      0  \n",
              "1181  MinesTelecom/04018/session01      1  \n",
              "1191  MinesTelecom/04017/session01      1  "
            ],
            "text/html": [
              "\n",
              "  <div id=\"df-901cefa5-98f1-4137-8f4d-3985bac61124\">\n",
              "    <div class=\"colab-df-container\">\n",
              "      <div>\n",
              "<style scoped>\n",
              "    .dataframe tbody tr th:only-of-type {\n",
              "        vertical-align: middle;\n",
              "    }\n",
              "\n",
              "    .dataframe tbody tr th {\n",
              "        vertical-align: top;\n",
              "    }\n",
              "\n",
              "    .dataframe thead th {\n",
              "        text-align: right;\n",
              "    }\n",
              "</style>\n",
              "<table border=\"1\" class=\"dataframe\">\n",
              "  <thead>\n",
              "    <tr style=\"text-align: right;\">\n",
              "      <th></th>\n",
              "      <th>country</th>\n",
              "      <th>gender</th>\n",
              "      <th>level_of_education</th>\n",
              "      <th>body</th>\n",
              "      <th>course_id</th>\n",
              "      <th>grade</th>\n",
              "    </tr>\n",
              "  </thead>\n",
              "  <tbody>\n",
              "    <tr>\n",
              "      <th>1169</th>\n",
              "      <td>FR</td>\n",
              "      <td>m</td>\n",
              "      <td>hs</td>\n",
              "      <td>1.000000</td>\n",
              "      <td>MinesTelecom/04017/session01</td>\n",
              "      <td>0</td>\n",
              "    </tr>\n",
              "    <tr>\n",
              "      <th>1170</th>\n",
              "      <td>FR</td>\n",
              "      <td>m</td>\n",
              "      <td>hs</td>\n",
              "      <td>1.000000</td>\n",
              "      <td>MinesTelecom/04018/session01</td>\n",
              "      <td>1</td>\n",
              "    </tr>\n",
              "    <tr>\n",
              "      <th>1180</th>\n",
              "      <td>FR</td>\n",
              "      <td>m</td>\n",
              "      <td>m</td>\n",
              "      <td>-0.440000</td>\n",
              "      <td>MinesTelecom/04017/session01</td>\n",
              "      <td>0</td>\n",
              "    </tr>\n",
              "    <tr>\n",
              "      <th>1181</th>\n",
              "      <td>FR</td>\n",
              "      <td>m</td>\n",
              "      <td>m</td>\n",
              "      <td>-0.440000</td>\n",
              "      <td>MinesTelecom/04018/session01</td>\n",
              "      <td>1</td>\n",
              "    </tr>\n",
              "    <tr>\n",
              "      <th>1191</th>\n",
              "      <td>FR</td>\n",
              "      <td>m</td>\n",
              "      <td>m</td>\n",
              "      <td>0.333333</td>\n",
              "      <td>MinesTelecom/04017/session01</td>\n",
              "      <td>1</td>\n",
              "    </tr>\n",
              "  </tbody>\n",
              "</table>\n",
              "</div>\n",
              "      <button class=\"colab-df-convert\" onclick=\"convertToInteractive('df-901cefa5-98f1-4137-8f4d-3985bac61124')\"\n",
              "              title=\"Convert this dataframe to an interactive table.\"\n",
              "              style=\"display:none;\">\n",
              "        \n",
              "  <svg xmlns=\"http://www.w3.org/2000/svg\" height=\"24px\"viewBox=\"0 0 24 24\"\n",
              "       width=\"24px\">\n",
              "    <path d=\"M0 0h24v24H0V0z\" fill=\"none\"/>\n",
              "    <path d=\"M18.56 5.44l.94 2.06.94-2.06 2.06-.94-2.06-.94-.94-2.06-.94 2.06-2.06.94zm-11 1L8.5 8.5l.94-2.06 2.06-.94-2.06-.94L8.5 2.5l-.94 2.06-2.06.94zm10 10l.94 2.06.94-2.06 2.06-.94-2.06-.94-.94-2.06-.94 2.06-2.06.94z\"/><path d=\"M17.41 7.96l-1.37-1.37c-.4-.4-.92-.59-1.43-.59-.52 0-1.04.2-1.43.59L10.3 9.45l-7.72 7.72c-.78.78-.78 2.05 0 2.83L4 21.41c.39.39.9.59 1.41.59.51 0 1.02-.2 1.41-.59l7.78-7.78 2.81-2.81c.8-.78.8-2.07 0-2.86zM5.41 20L4 18.59l7.72-7.72 1.47 1.35L5.41 20z\"/>\n",
              "  </svg>\n",
              "      </button>\n",
              "      \n",
              "  <style>\n",
              "    .colab-df-container {\n",
              "      display:flex;\n",
              "      flex-wrap:wrap;\n",
              "      gap: 12px;\n",
              "    }\n",
              "\n",
              "    .colab-df-convert {\n",
              "      background-color: #E8F0FE;\n",
              "      border: none;\n",
              "      border-radius: 50%;\n",
              "      cursor: pointer;\n",
              "      display: none;\n",
              "      fill: #1967D2;\n",
              "      height: 32px;\n",
              "      padding: 0 0 0 0;\n",
              "      width: 32px;\n",
              "    }\n",
              "\n",
              "    .colab-df-convert:hover {\n",
              "      background-color: #E2EBFA;\n",
              "      box-shadow: 0px 1px 2px rgba(60, 64, 67, 0.3), 0px 1px 3px 1px rgba(60, 64, 67, 0.15);\n",
              "      fill: #174EA6;\n",
              "    }\n",
              "\n",
              "    [theme=dark] .colab-df-convert {\n",
              "      background-color: #3B4455;\n",
              "      fill: #D2E3FC;\n",
              "    }\n",
              "\n",
              "    [theme=dark] .colab-df-convert:hover {\n",
              "      background-color: #434B5C;\n",
              "      box-shadow: 0px 1px 3px 1px rgba(0, 0, 0, 0.15);\n",
              "      filter: drop-shadow(0px 1px 2px rgba(0, 0, 0, 0.3));\n",
              "      fill: #FFFFFF;\n",
              "    }\n",
              "  </style>\n",
              "\n",
              "      <script>\n",
              "        const buttonEl =\n",
              "          document.querySelector('#df-901cefa5-98f1-4137-8f4d-3985bac61124 button.colab-df-convert');\n",
              "        buttonEl.style.display =\n",
              "          google.colab.kernel.accessAllowed ? 'block' : 'none';\n",
              "\n",
              "        async function convertToInteractive(key) {\n",
              "          const element = document.querySelector('#df-901cefa5-98f1-4137-8f4d-3985bac61124');\n",
              "          const dataTable =\n",
              "            await google.colab.kernel.invokeFunction('convertToInteractive',\n",
              "                                                     [key], {});\n",
              "          if (!dataTable) return;\n",
              "\n",
              "          const docLinkHtml = 'Like what you see? Visit the ' +\n",
              "            '<a target=\"_blank\" href=https://colab.research.google.com/notebooks/data_table.ipynb>data table notebook</a>'\n",
              "            + ' to learn more about interactive tables.';\n",
              "          element.innerHTML = '';\n",
              "          dataTable['output_type'] = 'display_data';\n",
              "          await google.colab.output.renderOutput(dataTable, element);\n",
              "          const docLink = document.createElement('div');\n",
              "          docLink.innerHTML = docLinkHtml;\n",
              "          element.appendChild(docLink);\n",
              "        }\n",
              "      </script>\n",
              "    </div>\n",
              "  </div>\n",
              "  "
            ]
          },
          "metadata": {},
          "execution_count": 8
        }
      ]
    },
    {
      "cell_type": "markdown",
      "source": [
        "Etant donné la contrainte de temps et l'impossibilité de tester tous les modèles, on a choisi une méthode ensembliste (GradientBoosting) qui avait donné de bons résultats sur nos projets précédents. La nouvelle version \"HistGradientBoosting\" est censée être plus rapide."
      ],
      "metadata": {
        "id": "EwCWQQAPw1xV"
      }
    },
    {
      "cell_type": "code",
      "execution_count": null,
      "metadata": {
        "id": "ZVxB-LnsjVaR"
      },
      "outputs": [],
      "source": [
        "# Numerical variables\n",
        "column_num = ['body']\n",
        "transfo_num = Pipeline(steps=[\n",
        "    ('scaling', RobustScaler())\n",
        "])"
      ]
    },
    {
      "cell_type": "code",
      "execution_count": null,
      "metadata": {
        "id": "iMoMjnI3g2T1"
      },
      "outputs": [],
      "source": [
        "# Categorical variables\n",
        "column_cat = ['country', 'gender', 'level_of_education', 'course_id']\n",
        "transfo_cat = Pipeline(steps=[\n",
        "    ('onehot', OneHotEncoder(handle_unknown='ignore')), \n",
        "    ('dr', TruncatedSVD())    \n",
        "    ])"
      ]
    },
    {
      "cell_type": "code",
      "execution_count": null,
      "metadata": {
        "id": "xlBb4nikkEhy"
      },
      "outputs": [],
      "source": [
        "# Class ColumnTransformer : apply alls steps on the whole dataset\n",
        "preparation = ColumnTransformer(\n",
        "    transformers=[\n",
        "        ('data_cat', transfo_cat , column_cat),\n",
        "        ('data_num', transfo_num , column_num)\n",
        "    ])"
      ]
    },
    {
      "cell_type": "code",
      "execution_count": null,
      "metadata": {
        "id": "nFKMGmxKlf3p"
      },
      "outputs": [],
      "source": [
        "# Declare the pipeline\n",
        "pipe = Pipeline(steps=[('preparation', preparation),\n",
        "                        ('model', HistGradientBoostingClassifier())])"
      ]
    },
    {
      "cell_type": "code",
      "execution_count": null,
      "metadata": {
        "colab": {
          "base_uri": "https://localhost:8080/"
        },
        "id": "iPR2ATmG3g3O",
        "outputId": "d889496f-c1db-4a89-e5c5-1ae3f020594f"
      },
      "outputs": [
        {
          "output_type": "execute_result",
          "data": {
            "text/plain": [
              "dict_keys(['memory', 'steps', 'verbose', 'preparation', 'model', 'preparation__n_jobs', 'preparation__remainder', 'preparation__sparse_threshold', 'preparation__transformer_weights', 'preparation__transformers', 'preparation__verbose', 'preparation__verbose_feature_names_out', 'preparation__data_cat', 'preparation__data_num', 'preparation__data_cat__memory', 'preparation__data_cat__steps', 'preparation__data_cat__verbose', 'preparation__data_cat__onehot', 'preparation__data_cat__dr', 'preparation__data_cat__onehot__categories', 'preparation__data_cat__onehot__drop', 'preparation__data_cat__onehot__dtype', 'preparation__data_cat__onehot__handle_unknown', 'preparation__data_cat__onehot__max_categories', 'preparation__data_cat__onehot__min_frequency', 'preparation__data_cat__onehot__sparse', 'preparation__data_cat__onehot__sparse_output', 'preparation__data_cat__dr__algorithm', 'preparation__data_cat__dr__n_components', 'preparation__data_cat__dr__n_iter', 'preparation__data_cat__dr__n_oversamples', 'preparation__data_cat__dr__power_iteration_normalizer', 'preparation__data_cat__dr__random_state', 'preparation__data_cat__dr__tol', 'preparation__data_num__memory', 'preparation__data_num__steps', 'preparation__data_num__verbose', 'preparation__data_num__scaling', 'preparation__data_num__scaling__copy', 'preparation__data_num__scaling__quantile_range', 'preparation__data_num__scaling__unit_variance', 'preparation__data_num__scaling__with_centering', 'preparation__data_num__scaling__with_scaling', 'model__categorical_features', 'model__class_weight', 'model__early_stopping', 'model__interaction_cst', 'model__l2_regularization', 'model__learning_rate', 'model__loss', 'model__max_bins', 'model__max_depth', 'model__max_iter', 'model__max_leaf_nodes', 'model__min_samples_leaf', 'model__monotonic_cst', 'model__n_iter_no_change', 'model__random_state', 'model__scoring', 'model__tol', 'model__validation_fraction', 'model__verbose', 'model__warm_start'])"
            ]
          },
          "metadata": {},
          "execution_count": 14
        }
      ],
      "source": [
        "pipe.get_params().keys()"
      ]
    },
    {
      "cell_type": "code",
      "execution_count": null,
      "metadata": {
        "id": "rxnpJWNcnNXo"
      },
      "outputs": [],
      "source": [
        "# Declare model and parameter for Grid Search\n",
        "parameters = {'model__learning_rate': [0.05, 0.1, 0.15], 'model__max_iter' : range(100, 301, 100), 'model__max_leaf_nodes': range(30, 100, 30), 'model__min_samples_leaf' : range(10, 50, 10)}"
      ]
    },
    {
      "cell_type": "code",
      "execution_count": null,
      "metadata": {
        "id": "uH2yYqVMnQST"
      },
      "outputs": [],
      "source": [
        "# Declare the Grid Search method\n",
        "grid = GridSearchCV(pipe, parameters, scoring=['balanced_accuracy', 'f1'], refit='balanced_accuracy', cv = 3, n_jobs =-1, verbose = 1, error_score=\"raise\" )"
      ]
    },
    {
      "cell_type": "code",
      "execution_count": null,
      "metadata": {
        "colab": {
          "base_uri": "https://localhost:8080/",
          "height": 152
        },
        "id": "KZOnm-OQkb2k",
        "outputId": "d72056f3-ced7-4944-b708-2a529a7a1363"
      },
      "outputs": [
        {
          "output_type": "execute_result",
          "data": {
            "text/plain": [
              "ColumnTransformer(transformers=[('data_cat',\n",
              "                                 Pipeline(steps=[('onehot',\n",
              "                                                  OneHotEncoder(handle_unknown='ignore')),\n",
              "                                                 ('dr', TruncatedSVD())]),\n",
              "                                 ['country', 'gender', 'level_of_education',\n",
              "                                  'course_id']),\n",
              "                                ('data_num',\n",
              "                                 Pipeline(steps=[('scaling', RobustScaler())]),\n",
              "                                 ['body'])])"
            ],
            "text/html": [
              "<style>#sk-container-id-1 {color: black;background-color: white;}#sk-container-id-1 pre{padding: 0;}#sk-container-id-1 div.sk-toggleable {background-color: white;}#sk-container-id-1 label.sk-toggleable__label {cursor: pointer;display: block;width: 100%;margin-bottom: 0;padding: 0.3em;box-sizing: border-box;text-align: center;}#sk-container-id-1 label.sk-toggleable__label-arrow:before {content: \"▸\";float: left;margin-right: 0.25em;color: #696969;}#sk-container-id-1 label.sk-toggleable__label-arrow:hover:before {color: black;}#sk-container-id-1 div.sk-estimator:hover label.sk-toggleable__label-arrow:before {color: black;}#sk-container-id-1 div.sk-toggleable__content {max-height: 0;max-width: 0;overflow: hidden;text-align: left;background-color: #f0f8ff;}#sk-container-id-1 div.sk-toggleable__content pre {margin: 0.2em;color: black;border-radius: 0.25em;background-color: #f0f8ff;}#sk-container-id-1 input.sk-toggleable__control:checked~div.sk-toggleable__content {max-height: 200px;max-width: 100%;overflow: auto;}#sk-container-id-1 input.sk-toggleable__control:checked~label.sk-toggleable__label-arrow:before {content: \"▾\";}#sk-container-id-1 div.sk-estimator input.sk-toggleable__control:checked~label.sk-toggleable__label {background-color: #d4ebff;}#sk-container-id-1 div.sk-label input.sk-toggleable__control:checked~label.sk-toggleable__label {background-color: #d4ebff;}#sk-container-id-1 input.sk-hidden--visually {border: 0;clip: rect(1px 1px 1px 1px);clip: rect(1px, 1px, 1px, 1px);height: 1px;margin: -1px;overflow: hidden;padding: 0;position: absolute;width: 1px;}#sk-container-id-1 div.sk-estimator {font-family: monospace;background-color: #f0f8ff;border: 1px dotted black;border-radius: 0.25em;box-sizing: border-box;margin-bottom: 0.5em;}#sk-container-id-1 div.sk-estimator:hover {background-color: #d4ebff;}#sk-container-id-1 div.sk-parallel-item::after {content: \"\";width: 100%;border-bottom: 1px solid gray;flex-grow: 1;}#sk-container-id-1 div.sk-label:hover label.sk-toggleable__label {background-color: #d4ebff;}#sk-container-id-1 div.sk-serial::before {content: \"\";position: absolute;border-left: 1px solid gray;box-sizing: border-box;top: 0;bottom: 0;left: 50%;z-index: 0;}#sk-container-id-1 div.sk-serial {display: flex;flex-direction: column;align-items: center;background-color: white;padding-right: 0.2em;padding-left: 0.2em;position: relative;}#sk-container-id-1 div.sk-item {position: relative;z-index: 1;}#sk-container-id-1 div.sk-parallel {display: flex;align-items: stretch;justify-content: center;background-color: white;position: relative;}#sk-container-id-1 div.sk-item::before, #sk-container-id-1 div.sk-parallel-item::before {content: \"\";position: absolute;border-left: 1px solid gray;box-sizing: border-box;top: 0;bottom: 0;left: 50%;z-index: -1;}#sk-container-id-1 div.sk-parallel-item {display: flex;flex-direction: column;z-index: 1;position: relative;background-color: white;}#sk-container-id-1 div.sk-parallel-item:first-child::after {align-self: flex-end;width: 50%;}#sk-container-id-1 div.sk-parallel-item:last-child::after {align-self: flex-start;width: 50%;}#sk-container-id-1 div.sk-parallel-item:only-child::after {width: 0;}#sk-container-id-1 div.sk-dashed-wrapped {border: 1px dashed gray;margin: 0 0.4em 0.5em 0.4em;box-sizing: border-box;padding-bottom: 0.4em;background-color: white;}#sk-container-id-1 div.sk-label label {font-family: monospace;font-weight: bold;display: inline-block;line-height: 1.2em;}#sk-container-id-1 div.sk-label-container {text-align: center;}#sk-container-id-1 div.sk-container {/* jupyter's `normalize.less` sets `[hidden] { display: none; }` but bootstrap.min.css set `[hidden] { display: none !important; }` so we also need the `!important` here to be able to override the default hidden behavior on the sphinx rendered scikit-learn.org. See: https://github.com/scikit-learn/scikit-learn/issues/21755 */display: inline-block !important;position: relative;}#sk-container-id-1 div.sk-text-repr-fallback {display: none;}</style><div id=\"sk-container-id-1\" class=\"sk-top-container\"><div class=\"sk-text-repr-fallback\"><pre>ColumnTransformer(transformers=[(&#x27;data_cat&#x27;,\n",
              "                                 Pipeline(steps=[(&#x27;onehot&#x27;,\n",
              "                                                  OneHotEncoder(handle_unknown=&#x27;ignore&#x27;)),\n",
              "                                                 (&#x27;dr&#x27;, TruncatedSVD())]),\n",
              "                                 [&#x27;country&#x27;, &#x27;gender&#x27;, &#x27;level_of_education&#x27;,\n",
              "                                  &#x27;course_id&#x27;]),\n",
              "                                (&#x27;data_num&#x27;,\n",
              "                                 Pipeline(steps=[(&#x27;scaling&#x27;, RobustScaler())]),\n",
              "                                 [&#x27;body&#x27;])])</pre><b>In a Jupyter environment, please rerun this cell to show the HTML representation or trust the notebook. <br />On GitHub, the HTML representation is unable to render, please try loading this page with nbviewer.org.</b></div><div class=\"sk-container\" hidden><div class=\"sk-item sk-dashed-wrapped\"><div class=\"sk-label-container\"><div class=\"sk-label sk-toggleable\"><input class=\"sk-toggleable__control sk-hidden--visually\" id=\"sk-estimator-id-1\" type=\"checkbox\" ><label for=\"sk-estimator-id-1\" class=\"sk-toggleable__label sk-toggleable__label-arrow\">ColumnTransformer</label><div class=\"sk-toggleable__content\"><pre>ColumnTransformer(transformers=[(&#x27;data_cat&#x27;,\n",
              "                                 Pipeline(steps=[(&#x27;onehot&#x27;,\n",
              "                                                  OneHotEncoder(handle_unknown=&#x27;ignore&#x27;)),\n",
              "                                                 (&#x27;dr&#x27;, TruncatedSVD())]),\n",
              "                                 [&#x27;country&#x27;, &#x27;gender&#x27;, &#x27;level_of_education&#x27;,\n",
              "                                  &#x27;course_id&#x27;]),\n",
              "                                (&#x27;data_num&#x27;,\n",
              "                                 Pipeline(steps=[(&#x27;scaling&#x27;, RobustScaler())]),\n",
              "                                 [&#x27;body&#x27;])])</pre></div></div></div><div class=\"sk-parallel\"><div class=\"sk-parallel-item\"><div class=\"sk-item\"><div class=\"sk-label-container\"><div class=\"sk-label sk-toggleable\"><input class=\"sk-toggleable__control sk-hidden--visually\" id=\"sk-estimator-id-2\" type=\"checkbox\" ><label for=\"sk-estimator-id-2\" class=\"sk-toggleable__label sk-toggleable__label-arrow\">data_cat</label><div class=\"sk-toggleable__content\"><pre>[&#x27;country&#x27;, &#x27;gender&#x27;, &#x27;level_of_education&#x27;, &#x27;course_id&#x27;]</pre></div></div></div><div class=\"sk-serial\"><div class=\"sk-item\"><div class=\"sk-serial\"><div class=\"sk-item\"><div class=\"sk-estimator sk-toggleable\"><input class=\"sk-toggleable__control sk-hidden--visually\" id=\"sk-estimator-id-3\" type=\"checkbox\" ><label for=\"sk-estimator-id-3\" class=\"sk-toggleable__label sk-toggleable__label-arrow\">OneHotEncoder</label><div class=\"sk-toggleable__content\"><pre>OneHotEncoder(handle_unknown=&#x27;ignore&#x27;)</pre></div></div></div><div class=\"sk-item\"><div class=\"sk-estimator sk-toggleable\"><input class=\"sk-toggleable__control sk-hidden--visually\" id=\"sk-estimator-id-4\" type=\"checkbox\" ><label for=\"sk-estimator-id-4\" class=\"sk-toggleable__label sk-toggleable__label-arrow\">TruncatedSVD</label><div class=\"sk-toggleable__content\"><pre>TruncatedSVD()</pre></div></div></div></div></div></div></div></div><div class=\"sk-parallel-item\"><div class=\"sk-item\"><div class=\"sk-label-container\"><div class=\"sk-label sk-toggleable\"><input class=\"sk-toggleable__control sk-hidden--visually\" id=\"sk-estimator-id-5\" type=\"checkbox\" ><label for=\"sk-estimator-id-5\" class=\"sk-toggleable__label sk-toggleable__label-arrow\">data_num</label><div class=\"sk-toggleable__content\"><pre>[&#x27;body&#x27;]</pre></div></div></div><div class=\"sk-serial\"><div class=\"sk-item\"><div class=\"sk-serial\"><div class=\"sk-item\"><div class=\"sk-estimator sk-toggleable\"><input class=\"sk-toggleable__control sk-hidden--visually\" id=\"sk-estimator-id-6\" type=\"checkbox\" ><label for=\"sk-estimator-id-6\" class=\"sk-toggleable__label sk-toggleable__label-arrow\">RobustScaler</label><div class=\"sk-toggleable__content\"><pre>RobustScaler()</pre></div></div></div></div></div></div></div></div></div></div></div></div>"
            ]
          },
          "metadata": {},
          "execution_count": 17
        }
      ],
      "source": [
        "# Display diagram\n",
        "set_config(display=\"diagram\")\n",
        "preparation"
      ]
    },
    {
      "cell_type": "code",
      "execution_count": null,
      "metadata": {
        "colab": {
          "base_uri": "https://localhost:8080/",
          "height": 270
        },
        "id": "3qDKD0rhrb1r",
        "outputId": "93b9e993-65ed-4e30-d111-790632fc7d55"
      },
      "outputs": [
        {
          "output_type": "stream",
          "name": "stdout",
          "text": [
            "Fitting 3 folds for each of 108 candidates, totalling 324 fits\n"
          ]
        },
        {
          "output_type": "execute_result",
          "data": {
            "text/plain": [
              "GridSearchCV(cv=3, error_score='raise',\n",
              "             estimator=Pipeline(steps=[('preparation',\n",
              "                                        ColumnTransformer(transformers=[('data_cat',\n",
              "                                                                         Pipeline(steps=[('onehot',\n",
              "                                                                                          OneHotEncoder(handle_unknown='ignore')),\n",
              "                                                                                         ('dr',\n",
              "                                                                                          TruncatedSVD())]),\n",
              "                                                                         ['country',\n",
              "                                                                          'gender',\n",
              "                                                                          'level_of_education',\n",
              "                                                                          'course_id']),\n",
              "                                                                        ('data_num',\n",
              "                                                                         Pipeline(steps=[('scaling',\n",
              "                                                                                          RobustScaler())]),\n",
              "                                                                         ['body'])])),\n",
              "                                       ('model',\n",
              "                                        HistGradientBoostingClassifier())]),\n",
              "             n_jobs=-1,\n",
              "             param_grid={'model__learning_rate': [0.05, 0.1, 0.15],\n",
              "                         'model__max_iter': range(100, 301, 100),\n",
              "                         'model__max_leaf_nodes': range(30, 100, 30),\n",
              "                         'model__min_samples_leaf': range(10, 50, 10)},\n",
              "             refit='balanced_accuracy', scoring=['balanced_accuracy', 'f1'],\n",
              "             verbose=1)"
            ],
            "text/html": [
              "<style>#sk-container-id-2 {color: black;background-color: white;}#sk-container-id-2 pre{padding: 0;}#sk-container-id-2 div.sk-toggleable {background-color: white;}#sk-container-id-2 label.sk-toggleable__label {cursor: pointer;display: block;width: 100%;margin-bottom: 0;padding: 0.3em;box-sizing: border-box;text-align: center;}#sk-container-id-2 label.sk-toggleable__label-arrow:before {content: \"▸\";float: left;margin-right: 0.25em;color: #696969;}#sk-container-id-2 label.sk-toggleable__label-arrow:hover:before {color: black;}#sk-container-id-2 div.sk-estimator:hover label.sk-toggleable__label-arrow:before {color: black;}#sk-container-id-2 div.sk-toggleable__content {max-height: 0;max-width: 0;overflow: hidden;text-align: left;background-color: #f0f8ff;}#sk-container-id-2 div.sk-toggleable__content pre {margin: 0.2em;color: black;border-radius: 0.25em;background-color: #f0f8ff;}#sk-container-id-2 input.sk-toggleable__control:checked~div.sk-toggleable__content {max-height: 200px;max-width: 100%;overflow: auto;}#sk-container-id-2 input.sk-toggleable__control:checked~label.sk-toggleable__label-arrow:before {content: \"▾\";}#sk-container-id-2 div.sk-estimator input.sk-toggleable__control:checked~label.sk-toggleable__label {background-color: #d4ebff;}#sk-container-id-2 div.sk-label input.sk-toggleable__control:checked~label.sk-toggleable__label {background-color: #d4ebff;}#sk-container-id-2 input.sk-hidden--visually {border: 0;clip: rect(1px 1px 1px 1px);clip: rect(1px, 1px, 1px, 1px);height: 1px;margin: -1px;overflow: hidden;padding: 0;position: absolute;width: 1px;}#sk-container-id-2 div.sk-estimator {font-family: monospace;background-color: #f0f8ff;border: 1px dotted black;border-radius: 0.25em;box-sizing: border-box;margin-bottom: 0.5em;}#sk-container-id-2 div.sk-estimator:hover {background-color: #d4ebff;}#sk-container-id-2 div.sk-parallel-item::after {content: \"\";width: 100%;border-bottom: 1px solid gray;flex-grow: 1;}#sk-container-id-2 div.sk-label:hover label.sk-toggleable__label {background-color: #d4ebff;}#sk-container-id-2 div.sk-serial::before {content: \"\";position: absolute;border-left: 1px solid gray;box-sizing: border-box;top: 0;bottom: 0;left: 50%;z-index: 0;}#sk-container-id-2 div.sk-serial {display: flex;flex-direction: column;align-items: center;background-color: white;padding-right: 0.2em;padding-left: 0.2em;position: relative;}#sk-container-id-2 div.sk-item {position: relative;z-index: 1;}#sk-container-id-2 div.sk-parallel {display: flex;align-items: stretch;justify-content: center;background-color: white;position: relative;}#sk-container-id-2 div.sk-item::before, #sk-container-id-2 div.sk-parallel-item::before {content: \"\";position: absolute;border-left: 1px solid gray;box-sizing: border-box;top: 0;bottom: 0;left: 50%;z-index: -1;}#sk-container-id-2 div.sk-parallel-item {display: flex;flex-direction: column;z-index: 1;position: relative;background-color: white;}#sk-container-id-2 div.sk-parallel-item:first-child::after {align-self: flex-end;width: 50%;}#sk-container-id-2 div.sk-parallel-item:last-child::after {align-self: flex-start;width: 50%;}#sk-container-id-2 div.sk-parallel-item:only-child::after {width: 0;}#sk-container-id-2 div.sk-dashed-wrapped {border: 1px dashed gray;margin: 0 0.4em 0.5em 0.4em;box-sizing: border-box;padding-bottom: 0.4em;background-color: white;}#sk-container-id-2 div.sk-label label {font-family: monospace;font-weight: bold;display: inline-block;line-height: 1.2em;}#sk-container-id-2 div.sk-label-container {text-align: center;}#sk-container-id-2 div.sk-container {/* jupyter's `normalize.less` sets `[hidden] { display: none; }` but bootstrap.min.css set `[hidden] { display: none !important; }` so we also need the `!important` here to be able to override the default hidden behavior on the sphinx rendered scikit-learn.org. See: https://github.com/scikit-learn/scikit-learn/issues/21755 */display: inline-block !important;position: relative;}#sk-container-id-2 div.sk-text-repr-fallback {display: none;}</style><div id=\"sk-container-id-2\" class=\"sk-top-container\"><div class=\"sk-text-repr-fallback\"><pre>GridSearchCV(cv=3, error_score=&#x27;raise&#x27;,\n",
              "             estimator=Pipeline(steps=[(&#x27;preparation&#x27;,\n",
              "                                        ColumnTransformer(transformers=[(&#x27;data_cat&#x27;,\n",
              "                                                                         Pipeline(steps=[(&#x27;onehot&#x27;,\n",
              "                                                                                          OneHotEncoder(handle_unknown=&#x27;ignore&#x27;)),\n",
              "                                                                                         (&#x27;dr&#x27;,\n",
              "                                                                                          TruncatedSVD())]),\n",
              "                                                                         [&#x27;country&#x27;,\n",
              "                                                                          &#x27;gender&#x27;,\n",
              "                                                                          &#x27;level_of_education&#x27;,\n",
              "                                                                          &#x27;course_id&#x27;]),\n",
              "                                                                        (&#x27;data_num&#x27;,\n",
              "                                                                         Pipeline(steps=[(&#x27;scaling&#x27;,\n",
              "                                                                                          RobustScaler())]),\n",
              "                                                                         [&#x27;body&#x27;])])),\n",
              "                                       (&#x27;model&#x27;,\n",
              "                                        HistGradientBoostingClassifier())]),\n",
              "             n_jobs=-1,\n",
              "             param_grid={&#x27;model__learning_rate&#x27;: [0.05, 0.1, 0.15],\n",
              "                         &#x27;model__max_iter&#x27;: range(100, 301, 100),\n",
              "                         &#x27;model__max_leaf_nodes&#x27;: range(30, 100, 30),\n",
              "                         &#x27;model__min_samples_leaf&#x27;: range(10, 50, 10)},\n",
              "             refit=&#x27;balanced_accuracy&#x27;, scoring=[&#x27;balanced_accuracy&#x27;, &#x27;f1&#x27;],\n",
              "             verbose=1)</pre><b>In a Jupyter environment, please rerun this cell to show the HTML representation or trust the notebook. <br />On GitHub, the HTML representation is unable to render, please try loading this page with nbviewer.org.</b></div><div class=\"sk-container\" hidden><div class=\"sk-item sk-dashed-wrapped\"><div class=\"sk-label-container\"><div class=\"sk-label sk-toggleable\"><input class=\"sk-toggleable__control sk-hidden--visually\" id=\"sk-estimator-id-7\" type=\"checkbox\" ><label for=\"sk-estimator-id-7\" class=\"sk-toggleable__label sk-toggleable__label-arrow\">GridSearchCV</label><div class=\"sk-toggleable__content\"><pre>GridSearchCV(cv=3, error_score=&#x27;raise&#x27;,\n",
              "             estimator=Pipeline(steps=[(&#x27;preparation&#x27;,\n",
              "                                        ColumnTransformer(transformers=[(&#x27;data_cat&#x27;,\n",
              "                                                                         Pipeline(steps=[(&#x27;onehot&#x27;,\n",
              "                                                                                          OneHotEncoder(handle_unknown=&#x27;ignore&#x27;)),\n",
              "                                                                                         (&#x27;dr&#x27;,\n",
              "                                                                                          TruncatedSVD())]),\n",
              "                                                                         [&#x27;country&#x27;,\n",
              "                                                                          &#x27;gender&#x27;,\n",
              "                                                                          &#x27;level_of_education&#x27;,\n",
              "                                                                          &#x27;course_id&#x27;]),\n",
              "                                                                        (&#x27;data_num&#x27;,\n",
              "                                                                         Pipeline(steps=[(&#x27;scaling&#x27;,\n",
              "                                                                                          RobustScaler())]),\n",
              "                                                                         [&#x27;body&#x27;])])),\n",
              "                                       (&#x27;model&#x27;,\n",
              "                                        HistGradientBoostingClassifier())]),\n",
              "             n_jobs=-1,\n",
              "             param_grid={&#x27;model__learning_rate&#x27;: [0.05, 0.1, 0.15],\n",
              "                         &#x27;model__max_iter&#x27;: range(100, 301, 100),\n",
              "                         &#x27;model__max_leaf_nodes&#x27;: range(30, 100, 30),\n",
              "                         &#x27;model__min_samples_leaf&#x27;: range(10, 50, 10)},\n",
              "             refit=&#x27;balanced_accuracy&#x27;, scoring=[&#x27;balanced_accuracy&#x27;, &#x27;f1&#x27;],\n",
              "             verbose=1)</pre></div></div></div><div class=\"sk-parallel\"><div class=\"sk-parallel-item\"><div class=\"sk-item\"><div class=\"sk-label-container\"><div class=\"sk-label sk-toggleable\"><input class=\"sk-toggleable__control sk-hidden--visually\" id=\"sk-estimator-id-8\" type=\"checkbox\" ><label for=\"sk-estimator-id-8\" class=\"sk-toggleable__label sk-toggleable__label-arrow\">estimator: Pipeline</label><div class=\"sk-toggleable__content\"><pre>Pipeline(steps=[(&#x27;preparation&#x27;,\n",
              "                 ColumnTransformer(transformers=[(&#x27;data_cat&#x27;,\n",
              "                                                  Pipeline(steps=[(&#x27;onehot&#x27;,\n",
              "                                                                   OneHotEncoder(handle_unknown=&#x27;ignore&#x27;)),\n",
              "                                                                  (&#x27;dr&#x27;,\n",
              "                                                                   TruncatedSVD())]),\n",
              "                                                  [&#x27;country&#x27;, &#x27;gender&#x27;,\n",
              "                                                   &#x27;level_of_education&#x27;,\n",
              "                                                   &#x27;course_id&#x27;]),\n",
              "                                                 (&#x27;data_num&#x27;,\n",
              "                                                  Pipeline(steps=[(&#x27;scaling&#x27;,\n",
              "                                                                   RobustScaler())]),\n",
              "                                                  [&#x27;body&#x27;])])),\n",
              "                (&#x27;model&#x27;, HistGradientBoostingClassifier())])</pre></div></div></div><div class=\"sk-serial\"><div class=\"sk-item\"><div class=\"sk-serial\"><div class=\"sk-item sk-dashed-wrapped\"><div class=\"sk-label-container\"><div class=\"sk-label sk-toggleable\"><input class=\"sk-toggleable__control sk-hidden--visually\" id=\"sk-estimator-id-9\" type=\"checkbox\" ><label for=\"sk-estimator-id-9\" class=\"sk-toggleable__label sk-toggleable__label-arrow\">preparation: ColumnTransformer</label><div class=\"sk-toggleable__content\"><pre>ColumnTransformer(transformers=[(&#x27;data_cat&#x27;,\n",
              "                                 Pipeline(steps=[(&#x27;onehot&#x27;,\n",
              "                                                  OneHotEncoder(handle_unknown=&#x27;ignore&#x27;)),\n",
              "                                                 (&#x27;dr&#x27;, TruncatedSVD())]),\n",
              "                                 [&#x27;country&#x27;, &#x27;gender&#x27;, &#x27;level_of_education&#x27;,\n",
              "                                  &#x27;course_id&#x27;]),\n",
              "                                (&#x27;data_num&#x27;,\n",
              "                                 Pipeline(steps=[(&#x27;scaling&#x27;, RobustScaler())]),\n",
              "                                 [&#x27;body&#x27;])])</pre></div></div></div><div class=\"sk-parallel\"><div class=\"sk-parallel-item\"><div class=\"sk-item\"><div class=\"sk-label-container\"><div class=\"sk-label sk-toggleable\"><input class=\"sk-toggleable__control sk-hidden--visually\" id=\"sk-estimator-id-10\" type=\"checkbox\" ><label for=\"sk-estimator-id-10\" class=\"sk-toggleable__label sk-toggleable__label-arrow\">data_cat</label><div class=\"sk-toggleable__content\"><pre>[&#x27;country&#x27;, &#x27;gender&#x27;, &#x27;level_of_education&#x27;, &#x27;course_id&#x27;]</pre></div></div></div><div class=\"sk-serial\"><div class=\"sk-item\"><div class=\"sk-serial\"><div class=\"sk-item\"><div class=\"sk-estimator sk-toggleable\"><input class=\"sk-toggleable__control sk-hidden--visually\" id=\"sk-estimator-id-11\" type=\"checkbox\" ><label for=\"sk-estimator-id-11\" class=\"sk-toggleable__label sk-toggleable__label-arrow\">OneHotEncoder</label><div class=\"sk-toggleable__content\"><pre>OneHotEncoder(handle_unknown=&#x27;ignore&#x27;)</pre></div></div></div><div class=\"sk-item\"><div class=\"sk-estimator sk-toggleable\"><input class=\"sk-toggleable__control sk-hidden--visually\" id=\"sk-estimator-id-12\" type=\"checkbox\" ><label for=\"sk-estimator-id-12\" class=\"sk-toggleable__label sk-toggleable__label-arrow\">TruncatedSVD</label><div class=\"sk-toggleable__content\"><pre>TruncatedSVD()</pre></div></div></div></div></div></div></div></div><div class=\"sk-parallel-item\"><div class=\"sk-item\"><div class=\"sk-label-container\"><div class=\"sk-label sk-toggleable\"><input class=\"sk-toggleable__control sk-hidden--visually\" id=\"sk-estimator-id-13\" type=\"checkbox\" ><label for=\"sk-estimator-id-13\" class=\"sk-toggleable__label sk-toggleable__label-arrow\">data_num</label><div class=\"sk-toggleable__content\"><pre>[&#x27;body&#x27;]</pre></div></div></div><div class=\"sk-serial\"><div class=\"sk-item\"><div class=\"sk-serial\"><div class=\"sk-item\"><div class=\"sk-estimator sk-toggleable\"><input class=\"sk-toggleable__control sk-hidden--visually\" id=\"sk-estimator-id-14\" type=\"checkbox\" ><label for=\"sk-estimator-id-14\" class=\"sk-toggleable__label sk-toggleable__label-arrow\">RobustScaler</label><div class=\"sk-toggleable__content\"><pre>RobustScaler()</pre></div></div></div></div></div></div></div></div></div></div><div class=\"sk-item\"><div class=\"sk-estimator sk-toggleable\"><input class=\"sk-toggleable__control sk-hidden--visually\" id=\"sk-estimator-id-15\" type=\"checkbox\" ><label for=\"sk-estimator-id-15\" class=\"sk-toggleable__label sk-toggleable__label-arrow\">HistGradientBoostingClassifier</label><div class=\"sk-toggleable__content\"><pre>HistGradientBoostingClassifier()</pre></div></div></div></div></div></div></div></div></div></div></div></div>"
            ]
          },
          "metadata": {},
          "execution_count": 18
        }
      ],
      "source": [
        "# Fit the model\n",
        "y = df['grade']\n",
        "X = df.drop(columns='grade')\n",
        "X_train, X_test, y_train, y_test = train_test_split(X, y, test_size=0.4, random_state=0)\n",
        "grid.fit(X_train, y_train)"
      ]
    },
    {
      "cell_type": "code",
      "execution_count": null,
      "metadata": {
        "id": "fKH2xlNM9fqN",
        "colab": {
          "base_uri": "https://localhost:8080/"
        },
        "outputId": "b73e6827-ac8b-4bf0-e81d-8af43f0c99d0"
      },
      "outputs": [
        {
          "output_type": "stream",
          "name": "stdout",
          "text": [
            "CV score: 0.6468255342296783\n"
          ]
        }
      ],
      "source": [
        "# Evaluate cross validation performance \n",
        "print(\"CV score:\", grid.best_score_)"
      ]
    },
    {
      "cell_type": "code",
      "execution_count": null,
      "metadata": {
        "id": "Lgt232jdK6Gy",
        "colab": {
          "base_uri": "https://localhost:8080/"
        },
        "outputId": "eab4d789-6163-4ae6-bab1-77e08fb6ff8c"
      },
      "outputs": [
        {
          "output_type": "stream",
          "name": "stdout",
          "text": [
            "CV parameters: {'model__learning_rate': 0.05, 'model__max_iter': 200, 'model__max_leaf_nodes': 90, 'model__min_samples_leaf': 40}\n"
          ]
        }
      ],
      "source": [
        "# Find the best parameters \n",
        "print(\"CV parameters:\", grid.best_params_)"
      ]
    },
    {
      "cell_type": "code",
      "execution_count": null,
      "metadata": {
        "id": "WHjAPK0l9lmH"
      },
      "outputs": [],
      "source": [
        "# Make predictions\n",
        "y_pred = grid.predict(X_test)"
      ]
    },
    {
      "cell_type": "code",
      "execution_count": null,
      "metadata": {
        "id": "Xp98_LLv9pGM",
        "colab": {
          "base_uri": "https://localhost:8080/"
        },
        "outputId": "1deb50e5-f7d9-44a4-8ebc-dccb23f60ddc"
      },
      "outputs": [
        {
          "output_type": "stream",
          "name": "stdout",
          "text": [
            "balanced accuracy 0.6464013325151223\n",
            "f1 score 0.6330532212885154\n"
          ]
        }
      ],
      "source": [
        "# Evaluate model performance\n",
        "print(\"balanced accuracy\", balanced_accuracy_score(y_test, y_pred))\n",
        "print(\"f1 score\", f1_score(y_test, y_pred))"
      ]
    },
    {
      "cell_type": "markdown",
      "source": [
        "Etant donné les contraites, on ne peut pas s'attendre à obtenir de bons résultats. Le fichier data_modelling2 représente juste une nouvelle tentative avec une sélection différente de features."
      ],
      "metadata": {
        "id": "oUAmHf1iu6Ns"
      }
    }
  ],
  "metadata": {
    "accelerator": "GPU",
    "colab": {
      "provenance": []
    },
    "gpuClass": "standard",
    "kernelspec": {
      "display_name": "Netfloox",
      "language": "python",
      "name": "python3"
    },
    "language_info": {
      "codemirror_mode": {
        "name": "ipython",
        "version": 3
      },
      "file_extension": ".py",
      "mimetype": "text/x-python",
      "name": "python",
      "nbconvert_exporter": "python",
      "pygments_lexer": "ipython3",
      "version": "3.9.16"
    },
    "vscode": {
      "interpreter": {
        "hash": "150f8bce8a0ed1f6707cea83ffc3775a25deaf29f2e3120fc9d158fd4b5e952f"
      }
    }
  },
  "nbformat": 4,
  "nbformat_minor": 0
}